{
 "cells": [
  {
   "cell_type": "code",
   "execution_count": 56,
   "metadata": {},
   "outputs": [],
   "source": [
    "import matplotlib.pyplot as plt\n",
    "import seaborn as sns\n",
    "import numpy as np\n",
    "import pandas as pd\n",
    "plt.rcParams['font.sans-serif']=['SimHei']  # 用来正常显示中文标签\n",
    "plt.rcParams['axes.unicode_minus']=False  # 用来正常显示负号"
   ]
  },
  {
   "cell_type": "code",
   "execution_count": 116,
   "metadata": {},
   "outputs": [
    {
     "data": {
      "text/html": [
       "<div>\n",
       "<style scoped>\n",
       "    .dataframe tbody tr th:only-of-type {\n",
       "        vertical-align: middle;\n",
       "    }\n",
       "\n",
       "    .dataframe tbody tr th {\n",
       "        vertical-align: top;\n",
       "    }\n",
       "\n",
       "    .dataframe thead th {\n",
       "        text-align: right;\n",
       "    }\n",
       "</style>\n",
       "<table border=\"1\" class=\"dataframe\">\n",
       "  <thead>\n",
       "    <tr style=\"text-align: right;\">\n",
       "      <th></th>\n",
       "      <th>Rank</th>\n",
       "      <th>Name</th>\n",
       "      <th>Platform</th>\n",
       "      <th>Year</th>\n",
       "      <th>Genre</th>\n",
       "      <th>Publisher</th>\n",
       "      <th>NA_Sales</th>\n",
       "      <th>EU_Sales</th>\n",
       "      <th>JP_Sales</th>\n",
       "      <th>Other_Sales</th>\n",
       "      <th>Global_Sales</th>\n",
       "    </tr>\n",
       "  </thead>\n",
       "  <tbody>\n",
       "    <tr>\n",
       "      <th>0</th>\n",
       "      <td>1</td>\n",
       "      <td>Wii Sports</td>\n",
       "      <td>Wii</td>\n",
       "      <td>2006.0</td>\n",
       "      <td>Sports</td>\n",
       "      <td>Nintendo</td>\n",
       "      <td>41.49</td>\n",
       "      <td>29.02</td>\n",
       "      <td>3.77</td>\n",
       "      <td>8.46</td>\n",
       "      <td>82.74</td>\n",
       "    </tr>\n",
       "    <tr>\n",
       "      <th>1</th>\n",
       "      <td>2</td>\n",
       "      <td>Super Mario Bros.</td>\n",
       "      <td>NES</td>\n",
       "      <td>1985.0</td>\n",
       "      <td>Platform</td>\n",
       "      <td>Nintendo</td>\n",
       "      <td>29.08</td>\n",
       "      <td>3.58</td>\n",
       "      <td>6.81</td>\n",
       "      <td>0.77</td>\n",
       "      <td>40.24</td>\n",
       "    </tr>\n",
       "    <tr>\n",
       "      <th>2</th>\n",
       "      <td>3</td>\n",
       "      <td>Mario Kart Wii</td>\n",
       "      <td>Wii</td>\n",
       "      <td>2008.0</td>\n",
       "      <td>Racing</td>\n",
       "      <td>Nintendo</td>\n",
       "      <td>15.85</td>\n",
       "      <td>12.88</td>\n",
       "      <td>3.79</td>\n",
       "      <td>3.31</td>\n",
       "      <td>35.82</td>\n",
       "    </tr>\n",
       "    <tr>\n",
       "      <th>3</th>\n",
       "      <td>4</td>\n",
       "      <td>Wii Sports Resort</td>\n",
       "      <td>Wii</td>\n",
       "      <td>2009.0</td>\n",
       "      <td>Sports</td>\n",
       "      <td>Nintendo</td>\n",
       "      <td>15.75</td>\n",
       "      <td>11.01</td>\n",
       "      <td>3.28</td>\n",
       "      <td>2.96</td>\n",
       "      <td>33.00</td>\n",
       "    </tr>\n",
       "    <tr>\n",
       "      <th>4</th>\n",
       "      <td>5</td>\n",
       "      <td>Pokemon Red/Pokemon Blue</td>\n",
       "      <td>GB</td>\n",
       "      <td>1996.0</td>\n",
       "      <td>Role-Playing</td>\n",
       "      <td>Nintendo</td>\n",
       "      <td>11.27</td>\n",
       "      <td>8.89</td>\n",
       "      <td>10.22</td>\n",
       "      <td>1.00</td>\n",
       "      <td>31.37</td>\n",
       "    </tr>\n",
       "  </tbody>\n",
       "</table>\n",
       "</div>"
      ],
      "text/plain": [
       "   Rank                      Name Platform    Year         Genre Publisher  \\\n",
       "0     1                Wii Sports      Wii  2006.0        Sports  Nintendo   \n",
       "1     2         Super Mario Bros.      NES  1985.0      Platform  Nintendo   \n",
       "2     3            Mario Kart Wii      Wii  2008.0        Racing  Nintendo   \n",
       "3     4         Wii Sports Resort      Wii  2009.0        Sports  Nintendo   \n",
       "4     5  Pokemon Red/Pokemon Blue       GB  1996.0  Role-Playing  Nintendo   \n",
       "\n",
       "   NA_Sales  EU_Sales  JP_Sales  Other_Sales  Global_Sales  \n",
       "0     41.49     29.02      3.77         8.46         82.74  \n",
       "1     29.08      3.58      6.81         0.77         40.24  \n",
       "2     15.85     12.88      3.79         3.31         35.82  \n",
       "3     15.75     11.01      3.28         2.96         33.00  \n",
       "4     11.27      8.89     10.22         1.00         31.37  "
      ]
     },
     "execution_count": 116,
     "metadata": {},
     "output_type": "execute_result"
    }
   ],
   "source": [
    "df=pd.read_csv(\"C:\\\\Users\\\\15771\\\\Downloads\\\\vgsales.csv\")\n",
    "df.head()"
   ]
  },
  {
   "cell_type": "markdown",
   "metadata": {},
   "source": [
    "#### 可以看到数据字段包括 \n",
    "#### RANK-总销售额的排名\n",
    "#### Name-游戏的名字\n",
    "#### Platform-游戏发布平台(即PC,PS4等)\n",
    "#### Year-游戏发行的年份\n",
    "#### Genre-游戏的类型\n",
    "#### Publisher-游戏的出版者\n",
    "#### NA_Sales -北美销售额(百万)\n",
    "#### EU_Sales -欧洲销售额(百万)\n",
    "#### JP_Sales -日本销售额(百万)\n",
    "#### Other_Sales—世界其他地区销售额(百万)\n",
    "#### Global_Sales—全球销售总额。\n",
    "#### 数据量：11列共1.66W数据量。**"
   ]
  },
  {
   "cell_type": "code",
   "execution_count": 58,
   "metadata": {},
   "outputs": [
    {
     "name": "stdout",
     "output_type": "stream",
     "text": [
      "<class 'pandas.core.frame.DataFrame'>\n",
      "RangeIndex: 16598 entries, 0 to 16597\n",
      "Data columns (total 11 columns):\n",
      " #   Column        Non-Null Count  Dtype  \n",
      "---  ------        --------------  -----  \n",
      " 0   Rank          16598 non-null  int64  \n",
      " 1   Name          16598 non-null  object \n",
      " 2   Platform      16598 non-null  object \n",
      " 3   Year          16327 non-null  float64\n",
      " 4   Genre         16598 non-null  object \n",
      " 5   Publisher     16540 non-null  object \n",
      " 6   NA_Sales      16598 non-null  float64\n",
      " 7   EU_Sales      16598 non-null  float64\n",
      " 8   JP_Sales      16598 non-null  float64\n",
      " 9   Other_Sales   16598 non-null  float64\n",
      " 10  Global_Sales  16598 non-null  float64\n",
      "dtypes: float64(6), int64(1), object(4)\n",
      "memory usage: 1.4+ MB\n"
     ]
    }
   ],
   "source": [
    "df.info()"
   ]
  },
  {
   "cell_type": "code",
   "execution_count": 59,
   "metadata": {},
   "outputs": [
    {
     "data": {
      "text/html": [
       "<div>\n",
       "<style scoped>\n",
       "    .dataframe tbody tr th:only-of-type {\n",
       "        vertical-align: middle;\n",
       "    }\n",
       "\n",
       "    .dataframe tbody tr th {\n",
       "        vertical-align: top;\n",
       "    }\n",
       "\n",
       "    .dataframe thead th {\n",
       "        text-align: right;\n",
       "    }\n",
       "</style>\n",
       "<table border=\"1\" class=\"dataframe\">\n",
       "  <thead>\n",
       "    <tr style=\"text-align: right;\">\n",
       "      <th></th>\n",
       "      <th>Rank</th>\n",
       "      <th>Year</th>\n",
       "      <th>NA_Sales</th>\n",
       "      <th>EU_Sales</th>\n",
       "      <th>JP_Sales</th>\n",
       "      <th>Other_Sales</th>\n",
       "      <th>Global_Sales</th>\n",
       "    </tr>\n",
       "  </thead>\n",
       "  <tbody>\n",
       "    <tr>\n",
       "      <th>count</th>\n",
       "      <td>16598.000000</td>\n",
       "      <td>16327.000000</td>\n",
       "      <td>16598.000000</td>\n",
       "      <td>16598.000000</td>\n",
       "      <td>16598.000000</td>\n",
       "      <td>16598.000000</td>\n",
       "      <td>16598.000000</td>\n",
       "    </tr>\n",
       "    <tr>\n",
       "      <th>mean</th>\n",
       "      <td>8300.605254</td>\n",
       "      <td>2006.406443</td>\n",
       "      <td>0.264667</td>\n",
       "      <td>0.146652</td>\n",
       "      <td>0.077782</td>\n",
       "      <td>0.048063</td>\n",
       "      <td>0.537441</td>\n",
       "    </tr>\n",
       "    <tr>\n",
       "      <th>std</th>\n",
       "      <td>4791.853933</td>\n",
       "      <td>5.828981</td>\n",
       "      <td>0.816683</td>\n",
       "      <td>0.505351</td>\n",
       "      <td>0.309291</td>\n",
       "      <td>0.188588</td>\n",
       "      <td>1.555028</td>\n",
       "    </tr>\n",
       "    <tr>\n",
       "      <th>min</th>\n",
       "      <td>1.000000</td>\n",
       "      <td>1980.000000</td>\n",
       "      <td>0.000000</td>\n",
       "      <td>0.000000</td>\n",
       "      <td>0.000000</td>\n",
       "      <td>0.000000</td>\n",
       "      <td>0.010000</td>\n",
       "    </tr>\n",
       "    <tr>\n",
       "      <th>25%</th>\n",
       "      <td>4151.250000</td>\n",
       "      <td>2003.000000</td>\n",
       "      <td>0.000000</td>\n",
       "      <td>0.000000</td>\n",
       "      <td>0.000000</td>\n",
       "      <td>0.000000</td>\n",
       "      <td>0.060000</td>\n",
       "    </tr>\n",
       "    <tr>\n",
       "      <th>50%</th>\n",
       "      <td>8300.500000</td>\n",
       "      <td>2007.000000</td>\n",
       "      <td>0.080000</td>\n",
       "      <td>0.020000</td>\n",
       "      <td>0.000000</td>\n",
       "      <td>0.010000</td>\n",
       "      <td>0.170000</td>\n",
       "    </tr>\n",
       "    <tr>\n",
       "      <th>75%</th>\n",
       "      <td>12449.750000</td>\n",
       "      <td>2010.000000</td>\n",
       "      <td>0.240000</td>\n",
       "      <td>0.110000</td>\n",
       "      <td>0.040000</td>\n",
       "      <td>0.040000</td>\n",
       "      <td>0.470000</td>\n",
       "    </tr>\n",
       "    <tr>\n",
       "      <th>max</th>\n",
       "      <td>16600.000000</td>\n",
       "      <td>2020.000000</td>\n",
       "      <td>41.490000</td>\n",
       "      <td>29.020000</td>\n",
       "      <td>10.220000</td>\n",
       "      <td>10.570000</td>\n",
       "      <td>82.740000</td>\n",
       "    </tr>\n",
       "  </tbody>\n",
       "</table>\n",
       "</div>"
      ],
      "text/plain": [
       "               Rank          Year      NA_Sales      EU_Sales      JP_Sales  \\\n",
       "count  16598.000000  16327.000000  16598.000000  16598.000000  16598.000000   \n",
       "mean    8300.605254   2006.406443      0.264667      0.146652      0.077782   \n",
       "std     4791.853933      5.828981      0.816683      0.505351      0.309291   \n",
       "min        1.000000   1980.000000      0.000000      0.000000      0.000000   \n",
       "25%     4151.250000   2003.000000      0.000000      0.000000      0.000000   \n",
       "50%     8300.500000   2007.000000      0.080000      0.020000      0.000000   \n",
       "75%    12449.750000   2010.000000      0.240000      0.110000      0.040000   \n",
       "max    16600.000000   2020.000000     41.490000     29.020000     10.220000   \n",
       "\n",
       "        Other_Sales  Global_Sales  \n",
       "count  16598.000000  16598.000000  \n",
       "mean       0.048063      0.537441  \n",
       "std        0.188588      1.555028  \n",
       "min        0.000000      0.010000  \n",
       "25%        0.000000      0.060000  \n",
       "50%        0.010000      0.170000  \n",
       "75%        0.040000      0.470000  \n",
       "max       10.570000     82.740000  "
      ]
     },
     "execution_count": 59,
     "metadata": {},
     "output_type": "execute_result"
    }
   ],
   "source": [
    "df.describe()"
   ]
  },
  {
   "cell_type": "markdown",
   "metadata": {},
   "source": [
    "####  电子游戏市场分析：受欢迎的游戏、类型、发布平台、发行人等"
   ]
  },
  {
   "cell_type": "code",
   "execution_count": 60,
   "metadata": {},
   "outputs": [
    {
     "name": "stdout",
     "output_type": "stream",
     "text": [
      "Genre\n",
      "Action          1722.88\n",
      "Sports          1309.24\n",
      "Shooter         1026.20\n",
      "Role-Playing     923.84\n",
      "Platform         829.15\n",
      "Misc             797.62\n",
      "Racing           726.77\n",
      "Fighting         444.05\n",
      "Simulation       390.16\n",
      "Puzzle           242.22\n",
      "Adventure        234.80\n",
      "Strategy         173.43\n",
      "dtype: float64\n"
     ]
    }
   ],
   "source": [
    "favorite_game_genre=pd.pivot_table(df,index='Year',columns='Genre',values='Global_Sales',aggfunc=np.sum).sum().sort_values(ascending=False)\n",
    "print(favorite_game_genre)"
   ]
  },
  {
   "cell_type": "code",
   "execution_count": 61,
   "metadata": {},
   "outputs": [
    {
     "data": {
      "text/html": [
       "<div>\n",
       "<style scoped>\n",
       "    .dataframe tbody tr th:only-of-type {\n",
       "        vertical-align: middle;\n",
       "    }\n",
       "\n",
       "    .dataframe tbody tr th {\n",
       "        vertical-align: top;\n",
       "    }\n",
       "\n",
       "    .dataframe thead th {\n",
       "        text-align: right;\n",
       "    }\n",
       "</style>\n",
       "<table border=\"1\" class=\"dataframe\">\n",
       "  <thead>\n",
       "    <tr style=\"text-align: right;\">\n",
       "      <th></th>\n",
       "      <th>Genre_sales</th>\n",
       "    </tr>\n",
       "    <tr>\n",
       "      <th>Genre</th>\n",
       "      <th></th>\n",
       "    </tr>\n",
       "  </thead>\n",
       "  <tbody>\n",
       "    <tr>\n",
       "      <th>Action</th>\n",
       "      <td>1722.88</td>\n",
       "    </tr>\n",
       "    <tr>\n",
       "      <th>Sports</th>\n",
       "      <td>1309.24</td>\n",
       "    </tr>\n",
       "    <tr>\n",
       "      <th>Shooter</th>\n",
       "      <td>1026.20</td>\n",
       "    </tr>\n",
       "    <tr>\n",
       "      <th>Role-Playing</th>\n",
       "      <td>923.84</td>\n",
       "    </tr>\n",
       "    <tr>\n",
       "      <th>Platform</th>\n",
       "      <td>829.15</td>\n",
       "    </tr>\n",
       "    <tr>\n",
       "      <th>Misc</th>\n",
       "      <td>797.62</td>\n",
       "    </tr>\n",
       "    <tr>\n",
       "      <th>Racing</th>\n",
       "      <td>726.77</td>\n",
       "    </tr>\n",
       "    <tr>\n",
       "      <th>Fighting</th>\n",
       "      <td>444.05</td>\n",
       "    </tr>\n",
       "    <tr>\n",
       "      <th>Simulation</th>\n",
       "      <td>390.16</td>\n",
       "    </tr>\n",
       "    <tr>\n",
       "      <th>Puzzle</th>\n",
       "      <td>242.22</td>\n",
       "    </tr>\n",
       "    <tr>\n",
       "      <th>Adventure</th>\n",
       "      <td>234.80</td>\n",
       "    </tr>\n",
       "    <tr>\n",
       "      <th>Strategy</th>\n",
       "      <td>173.43</td>\n",
       "    </tr>\n",
       "  </tbody>\n",
       "</table>\n",
       "</div>"
      ],
      "text/plain": [
       "              Genre_sales\n",
       "Genre                    \n",
       "Action            1722.88\n",
       "Sports            1309.24\n",
       "Shooter           1026.20\n",
       "Role-Playing       923.84\n",
       "Platform           829.15\n",
       "Misc               797.62\n",
       "Racing             726.77\n",
       "Fighting           444.05\n",
       "Simulation         390.16\n",
       "Puzzle             242.22\n",
       "Adventure          234.80\n",
       "Strategy           173.43"
      ]
     },
     "execution_count": 61,
     "metadata": {},
     "output_type": "execute_result"
    }
   ],
   "source": [
    "favorite_game_genre=pd.DataFrame(data=favorite_game_genre,columns={'Genre_sales'})\n",
    "favorite_game_genre"
   ]
  },
  {
   "cell_type": "code",
   "execution_count": 62,
   "metadata": {},
   "outputs": [
    {
     "data": {
      "text/plain": [
       "(array([ 0,  1,  2,  3,  4,  5,  6,  7,  8,  9, 10, 11]),\n",
       " <a list of 12 Text xticklabel objects>)"
      ]
     },
     "execution_count": 62,
     "metadata": {},
     "output_type": "execute_result"
    },
    {
     "data": {
      "image/png": "[encoded data removed]",
      "text/plain": [
       "<Figure size 432x288 with 1 Axes>"
      ]
     },
     "metadata": {
      "needs_background": "light"
     },
     "output_type": "display_data"
    }
   ],
   "source": [
    "plt.plot(figsize=(12,6))\n",
    "sns.barplot(x=favorite_game_genre.index,y='Genre_sales',data=favorite_game_genre)\n",
    "plt.xticks(rotation=90)"
   ]
  },
  {
   "cell_type": "markdown",
   "metadata": {},
   "source": [
    "#### 可以看出用户最喜爱的游戏类型是动作类、运动类、射击类。"
   ]
  },
  {
   "cell_type": "code",
   "execution_count": 63,
   "metadata": {},
   "outputs": [
    {
     "name": "stdout",
     "output_type": "stream",
     "text": [
      "Name\n",
      "Wii Sports                                                 82.74\n",
      "Grand Theft Auto V                                         55.92\n",
      "Super Mario Bros.                                          45.31\n",
      "Tetris                                                     35.84\n",
      "Mario Kart Wii                                             35.82\n",
      "                                                           ...  \n",
      "Princess Arthur                                             0.01\n",
      "Sousaku Alice to Oujisama!                                  0.01\n",
      "Fullmetal Alchemist: Prince of the Dawn                     0.01\n",
      "Cities: Skylines Snowfall                                   0.01\n",
      "Shutsugeki! Otometachi no Senjou 2: Ikusabana no Kizuna     0.01\n",
      "Length: 11360, dtype: float64\n"
     ]
    }
   ],
   "source": [
    "favorite_game=pd.pivot_table(df,index='Year',columns='Name',values='Global_Sales',aggfunc=np.sum).sum().sort_values(ascending=False)\n",
    "print(favorite_game)"
   ]
  },
  {
   "cell_type": "code",
   "execution_count": 64,
   "metadata": {},
   "outputs": [
    {
     "data": {
      "text/html": [
       "<div>\n",
       "<style scoped>\n",
       "    .dataframe tbody tr th:only-of-type {\n",
       "        vertical-align: middle;\n",
       "    }\n",
       "\n",
       "    .dataframe tbody tr th {\n",
       "        vertical-align: top;\n",
       "    }\n",
       "\n",
       "    .dataframe thead th {\n",
       "        text-align: right;\n",
       "    }\n",
       "</style>\n",
       "<table border=\"1\" class=\"dataframe\">\n",
       "  <thead>\n",
       "    <tr style=\"text-align: right;\">\n",
       "      <th></th>\n",
       "      <th>Genre_sales</th>\n",
       "    </tr>\n",
       "    <tr>\n",
       "      <th>Name</th>\n",
       "      <th></th>\n",
       "    </tr>\n",
       "  </thead>\n",
       "  <tbody>\n",
       "    <tr>\n",
       "      <th>Wii Sports</th>\n",
       "      <td>82.74</td>\n",
       "    </tr>\n",
       "    <tr>\n",
       "      <th>Grand Theft Auto V</th>\n",
       "      <td>55.92</td>\n",
       "    </tr>\n",
       "    <tr>\n",
       "      <th>Super Mario Bros.</th>\n",
       "      <td>45.31</td>\n",
       "    </tr>\n",
       "    <tr>\n",
       "      <th>Tetris</th>\n",
       "      <td>35.84</td>\n",
       "    </tr>\n",
       "    <tr>\n",
       "      <th>Mario Kart Wii</th>\n",
       "      <td>35.82</td>\n",
       "    </tr>\n",
       "    <tr>\n",
       "      <th>...</th>\n",
       "      <td>...</td>\n",
       "    </tr>\n",
       "    <tr>\n",
       "      <th>Princess Arthur</th>\n",
       "      <td>0.01</td>\n",
       "    </tr>\n",
       "    <tr>\n",
       "      <th>Sousaku Alice to Oujisama!</th>\n",
       "      <td>0.01</td>\n",
       "    </tr>\n",
       "    <tr>\n",
       "      <th>Fullmetal Alchemist: Prince of the Dawn</th>\n",
       "      <td>0.01</td>\n",
       "    </tr>\n",
       "    <tr>\n",
       "      <th>Cities: Skylines Snowfall</th>\n",
       "      <td>0.01</td>\n",
       "    </tr>\n",
       "    <tr>\n",
       "      <th>Shutsugeki! Otometachi no Senjou 2: Ikusabana no Kizuna</th>\n",
       "      <td>0.01</td>\n",
       "    </tr>\n",
       "  </tbody>\n",
       "</table>\n",
       "<p>11360 rows × 1 columns</p>\n",
       "</div>"
      ],
      "text/plain": [
       "                                                    Genre_sales\n",
       "Name                                                           \n",
       "Wii Sports                                                82.74\n",
       "Grand Theft Auto V                                        55.92\n",
       "Super Mario Bros.                                         45.31\n",
       "Tetris                                                    35.84\n",
       "Mario Kart Wii                                            35.82\n",
       "...                                                         ...\n",
       "Princess Arthur                                            0.01\n",
       "Sousaku Alice to Oujisama!                                 0.01\n",
       "Fullmetal Alchemist: Prince of the Dawn                    0.01\n",
       "Cities: Skylines Snowfall                                  0.01\n",
       "Shutsugeki! Otometachi no Senjou 2: Ikusabana n...         0.01\n",
       "\n",
       "[11360 rows x 1 columns]"
      ]
     },
     "execution_count": 64,
     "metadata": {},
     "output_type": "execute_result"
    }
   ],
   "source": [
    "favorite_game=pd.DataFrame(data=favorite_game,columns={'Genre_sales'})\n",
    "favorite_game"
   ]
  },
  {
   "cell_type": "code",
   "execution_count": 65,
   "metadata": {},
   "outputs": [
    {
     "data": {
      "text/plain": [
       "(array([ 0,  1,  2,  3,  4,  5,  6,  7,  8,  9, 10, 11, 12, 13, 14]),\n",
       " <a list of 15 Text xticklabel objects>)"
      ]
     },
     "execution_count": 65,
     "metadata": {},
     "output_type": "execute_result"
    },
    {
     "data": {
      "image/png": "[encoded data removed]",
      "text/plain": [
       "<Figure size 432x288 with 1 Axes>"
      ]
     },
     "metadata": {
      "needs_background": "light"
     },
     "output_type": "display_data"
    }
   ],
   "source": [
    "plt.plot(figsize=(12,6))\n",
    "sns.barplot(x=favorite_game[:15].index,y='Genre_sales',data=favorite_game[:15])\n",
    "plt.xticks(rotation=90)"
   ]
  },
  {
   "cell_type": "markdown",
   "metadata": {},
   "source": [
    "####  可以看出用户最喜欢的游戏是Will Sports和 Grand Theft Auto V"
   ]
  },
  {
   "cell_type": "code",
   "execution_count": 66,
   "metadata": {},
   "outputs": [
    {
     "name": "stdout",
     "output_type": "stream",
     "text": [
      "Platform\n",
      "PS2     1233.46\n",
      "X360     969.61\n",
      "PS3      949.35\n",
      "Wii      909.81\n",
      "DS       818.96\n",
      "PS       727.39\n",
      "GBA      313.56\n",
      "PSP      291.71\n",
      "PS4      278.10\n",
      "PC       255.05\n",
      "GB       254.42\n",
      "XB       252.09\n",
      "NES      251.07\n",
      "3DS      246.28\n",
      "N64      218.21\n",
      "SNES     200.05\n",
      "GC       197.14\n",
      "XOne     141.06\n",
      "2600      86.57\n",
      "WiiU      81.86\n",
      "PSV       61.63\n",
      "SAT       33.59\n",
      "GEN       28.36\n",
      "DC        15.97\n",
      "SCD        1.87\n",
      "NG         1.44\n",
      "WS         1.42\n",
      "TG16       0.16\n",
      "3DO        0.10\n",
      "GG         0.04\n",
      "PCFX       0.03\n",
      "dtype: float64\n"
     ]
    }
   ],
   "source": [
    "favorite_game_platform=pd.pivot_table(df,index='Year',columns='Platform',values='Global_Sales',aggfunc=np.sum).sum().sort_values(ascending=False)\n",
    "print(favorite_game_platform)"
   ]
  },
  {
   "cell_type": "code",
   "execution_count": 67,
   "metadata": {},
   "outputs": [
    {
     "data": {
      "text/html": [
       "<div>\n",
       "<style scoped>\n",
       "    .dataframe tbody tr th:only-of-type {\n",
       "        vertical-align: middle;\n",
       "    }\n",
       "\n",
       "    .dataframe tbody tr th {\n",
       "        vertical-align: top;\n",
       "    }\n",
       "\n",
       "    .dataframe thead th {\n",
       "        text-align: right;\n",
       "    }\n",
       "</style>\n",
       "<table border=\"1\" class=\"dataframe\">\n",
       "  <thead>\n",
       "    <tr style=\"text-align: right;\">\n",
       "      <th></th>\n",
       "      <th>Genre_sales</th>\n",
       "    </tr>\n",
       "    <tr>\n",
       "      <th>Platform</th>\n",
       "      <th></th>\n",
       "    </tr>\n",
       "  </thead>\n",
       "  <tbody>\n",
       "    <tr>\n",
       "      <th>PS2</th>\n",
       "      <td>1233.46</td>\n",
       "    </tr>\n",
       "    <tr>\n",
       "      <th>X360</th>\n",
       "      <td>969.61</td>\n",
       "    </tr>\n",
       "    <tr>\n",
       "      <th>PS3</th>\n",
       "      <td>949.35</td>\n",
       "    </tr>\n",
       "    <tr>\n",
       "      <th>Wii</th>\n",
       "      <td>909.81</td>\n",
       "    </tr>\n",
       "    <tr>\n",
       "      <th>DS</th>\n",
       "      <td>818.96</td>\n",
       "    </tr>\n",
       "    <tr>\n",
       "      <th>PS</th>\n",
       "      <td>727.39</td>\n",
       "    </tr>\n",
       "    <tr>\n",
       "      <th>GBA</th>\n",
       "      <td>313.56</td>\n",
       "    </tr>\n",
       "    <tr>\n",
       "      <th>PSP</th>\n",
       "      <td>291.71</td>\n",
       "    </tr>\n",
       "    <tr>\n",
       "      <th>PS4</th>\n",
       "      <td>278.10</td>\n",
       "    </tr>\n",
       "    <tr>\n",
       "      <th>PC</th>\n",
       "      <td>255.05</td>\n",
       "    </tr>\n",
       "    <tr>\n",
       "      <th>GB</th>\n",
       "      <td>254.42</td>\n",
       "    </tr>\n",
       "    <tr>\n",
       "      <th>XB</th>\n",
       "      <td>252.09</td>\n",
       "    </tr>\n",
       "    <tr>\n",
       "      <th>NES</th>\n",
       "      <td>251.07</td>\n",
       "    </tr>\n",
       "    <tr>\n",
       "      <th>3DS</th>\n",
       "      <td>246.28</td>\n",
       "    </tr>\n",
       "    <tr>\n",
       "      <th>N64</th>\n",
       "      <td>218.21</td>\n",
       "    </tr>\n",
       "    <tr>\n",
       "      <th>SNES</th>\n",
       "      <td>200.05</td>\n",
       "    </tr>\n",
       "    <tr>\n",
       "      <th>GC</th>\n",
       "      <td>197.14</td>\n",
       "    </tr>\n",
       "    <tr>\n",
       "      <th>XOne</th>\n",
       "      <td>141.06</td>\n",
       "    </tr>\n",
       "    <tr>\n",
       "      <th>2600</th>\n",
       "      <td>86.57</td>\n",
       "    </tr>\n",
       "    <tr>\n",
       "      <th>WiiU</th>\n",
       "      <td>81.86</td>\n",
       "    </tr>\n",
       "    <tr>\n",
       "      <th>PSV</th>\n",
       "      <td>61.63</td>\n",
       "    </tr>\n",
       "    <tr>\n",
       "      <th>SAT</th>\n",
       "      <td>33.59</td>\n",
       "    </tr>\n",
       "    <tr>\n",
       "      <th>GEN</th>\n",
       "      <td>28.36</td>\n",
       "    </tr>\n",
       "    <tr>\n",
       "      <th>DC</th>\n",
       "      <td>15.97</td>\n",
       "    </tr>\n",
       "    <tr>\n",
       "      <th>SCD</th>\n",
       "      <td>1.87</td>\n",
       "    </tr>\n",
       "    <tr>\n",
       "      <th>NG</th>\n",
       "      <td>1.44</td>\n",
       "    </tr>\n",
       "    <tr>\n",
       "      <th>WS</th>\n",
       "      <td>1.42</td>\n",
       "    </tr>\n",
       "    <tr>\n",
       "      <th>TG16</th>\n",
       "      <td>0.16</td>\n",
       "    </tr>\n",
       "    <tr>\n",
       "      <th>3DO</th>\n",
       "      <td>0.10</td>\n",
       "    </tr>\n",
       "    <tr>\n",
       "      <th>GG</th>\n",
       "      <td>0.04</td>\n",
       "    </tr>\n",
       "    <tr>\n",
       "      <th>PCFX</th>\n",
       "      <td>0.03</td>\n",
       "    </tr>\n",
       "  </tbody>\n",
       "</table>\n",
       "</div>"
      ],
      "text/plain": [
       "          Genre_sales\n",
       "Platform             \n",
       "PS2           1233.46\n",
       "X360           969.61\n",
       "PS3            949.35\n",
       "Wii            909.81\n",
       "DS             818.96\n",
       "PS             727.39\n",
       "GBA            313.56\n",
       "PSP            291.71\n",
       "PS4            278.10\n",
       "PC             255.05\n",
       "GB             254.42\n",
       "XB             252.09\n",
       "NES            251.07\n",
       "3DS            246.28\n",
       "N64            218.21\n",
       "SNES           200.05\n",
       "GC             197.14\n",
       "XOne           141.06\n",
       "2600            86.57\n",
       "WiiU            81.86\n",
       "PSV             61.63\n",
       "SAT             33.59\n",
       "GEN             28.36\n",
       "DC              15.97\n",
       "SCD              1.87\n",
       "NG               1.44\n",
       "WS               1.42\n",
       "TG16             0.16\n",
       "3DO              0.10\n",
       "GG               0.04\n",
       "PCFX             0.03"
      ]
     },
     "execution_count": 67,
     "metadata": {},
     "output_type": "execute_result"
    }
   ],
   "source": [
    "favorite_game_platform=pd.DataFrame(data=favorite_game_platform,columns={'Genre_sales'})\n",
    "favorite_game_platform"
   ]
  },
  {
   "cell_type": "code",
   "execution_count": 68,
   "metadata": {},
   "outputs": [
    {
     "data": {
      "text/plain": [
       "(array([ 0,  1,  2,  3,  4,  5,  6,  7,  8,  9, 10, 11, 12, 13, 14]),\n",
       " <a list of 15 Text xticklabel objects>)"
      ]
     },
     "execution_count": 68,
     "metadata": {},
     "output_type": "execute_result"
    },
    {
     "data": {
      "image/png": "[encoded data removed]",
      "text/plain": [
       "<Figure size 432x288 with 1 Axes>"
      ]
     },
     "metadata": {
      "needs_background": "light"
     },
     "output_type": "display_data"
    }
   ],
   "source": [
    "plt.plot(figsize=(12,6))\n",
    "sns.barplot(x=favorite_game_platform[:15].index,y='Genre_sales',data=favorite_game_platform[:15])\n",
    "plt.xticks(rotation=90)"
   ]
  },
  {
   "cell_type": "markdown",
   "metadata": {},
   "source": [
    "#### 用户最喜欢的游戏发布平台是PS2和X360以及PS3"
   ]
  },
  {
   "cell_type": "markdown",
   "metadata": {},
   "source": [
    "### 可视化应用"
   ]
  },
  {
   "cell_type": "markdown",
   "metadata": {},
   "source": [
    "#### 可视化游戏市场的总体发展趋势"
   ]
  },
  {
   "cell_type": "code",
   "execution_count": 69,
   "metadata": {},
   "outputs": [],
   "source": [
    "Sales = ['NA_Sales','EU_Sales','JP_Sales','Other_Sales','Global_Sales']"
   ]
  },
  {
   "cell_type": "code",
   "execution_count": 70,
   "metadata": {},
   "outputs": [],
   "source": [
    "# 绘制各地区的销量走势\n",
    "df5market_p=pd.pivot_table(df,index='Year',values=Sales,aggfunc=np.sum)"
   ]
  },
  {
   "cell_type": "code",
   "execution_count": 71,
   "metadata": {},
   "outputs": [
    {
     "name": "stdout",
     "output_type": "stream",
     "text": [
      "        EU_Sales  Global_Sales  JP_Sales  NA_Sales  Other_Sales\n",
      "Year                                                           \n",
      "1980.0      0.67         11.38      0.00     10.59         0.12\n",
      "1981.0      1.96         35.77      0.00     33.40         0.32\n",
      "1982.0      1.65         28.86      0.00     26.92         0.31\n",
      "1983.0      0.80         16.79      8.10      7.76         0.14\n",
      "1984.0      2.10         50.36     14.27     33.28         0.70\n",
      "1985.0      4.74         53.94     14.56     33.73         0.92\n",
      "1986.0      2.84         37.07     19.81     12.50         1.93\n",
      "1987.0      1.41         21.74     11.63      8.46         0.20\n",
      "1988.0      6.59         47.22     15.76     23.87         0.99\n",
      "1989.0      8.44         73.45     18.36     45.15         1.50\n",
      "1990.0      7.63         49.39     14.88     25.46         1.40\n",
      "1991.0      3.95         32.23     14.78     12.76         0.74\n",
      "1992.0     11.71         76.16     28.91     33.87         1.65\n",
      "1993.0      4.65         45.98     25.33     15.12         0.89\n",
      "1994.0     14.88         79.17     33.99     28.15         2.20\n",
      "1995.0     14.90         88.11     45.75     24.82         2.64\n",
      "1996.0     47.26        199.15     57.44     86.76         7.69\n",
      "1997.0     48.32        200.98     48.87     94.75         9.13\n",
      "1998.0     66.90        256.47     50.04    128.36        11.03\n",
      "1999.0     62.67        251.27     52.34    126.06        10.05\n",
      "2000.0     52.75        201.56     42.77     94.49        11.62\n",
      "2001.0     94.89        331.47     39.86    173.98        22.76\n",
      "2002.0    109.74        395.52     41.76    216.19        27.28\n",
      "2003.0    103.81        357.85     34.20    193.59        26.01\n",
      "2004.0    107.32        419.31     41.65    222.59        47.29\n",
      "2005.0    121.94        459.94     54.28    242.61        40.58\n",
      "2006.0    129.24        521.04     73.73    263.12        54.43\n",
      "2007.0    160.50        611.13     60.29    312.05        77.60\n",
      "2008.0    184.40        678.90     60.26    351.44        82.39\n",
      "2009.0    191.59        667.30     61.89    338.85        74.77\n",
      "2010.0    176.73        600.45     59.49    304.24        59.90\n",
      "2011.0    167.44        515.99     53.04    241.06        54.39\n",
      "2012.0    118.78        363.54     51.74    154.96        37.82\n",
      "2013.0    125.80        368.11     47.59    154.77        39.82\n",
      "2014.0    125.65        337.05     39.46    131.97        40.02\n",
      "2015.0     97.71        264.44     33.72    102.82        30.01\n",
      "2016.0     26.76         70.93     13.70     22.66         7.75\n",
      "2017.0      0.00          0.05      0.05      0.00         0.00\n",
      "2020.0      0.00          0.29      0.00      0.27         0.02\n"
     ]
    }
   ],
   "source": [
    "print(df5market_p)"
   ]
  },
  {
   "cell_type": "code",
   "execution_count": 72,
   "metadata": {},
   "outputs": [
    {
     "data": {
      "text/plain": [
       "<matplotlib.axes._subplots.AxesSubplot at 0x21fd8307860>"
      ]
     },
     "execution_count": 72,
     "metadata": {},
     "output_type": "execute_result"
    },
    {
     "data": {
      "image/png": "[encoded data removed]",
      "text/plain": [
       "<Figure size 432x288 with 1 Axes>"
      ]
     },
     "metadata": {
      "needs_background": "light"
     },
     "output_type": "display_data"
    }
   ],
   "source": [
    "sns.lineplot(data=df5market_p)"
   ]
  },
  {
   "cell_type": "markdown",
   "metadata": {},
   "source": [
    "#### 分析上图可以知道，从1995年开始，游戏市场的销量开始突然暴增，知道2008年左右达到最高峰，2010年之后开始暴跌。其中北美销量最大。"
   ]
  },
  {
   "cell_type": "code",
   "execution_count": 73,
   "metadata": {},
   "outputs": [],
   "source": [
    "company = ['Nintendo','Electronic Arts','Activision','Sony Computer Entertainment','Ubisoft']"
   ]
  },
  {
   "cell_type": "code",
   "execution_count": 74,
   "metadata": {
    "scrolled": false
   },
   "outputs": [
    {
     "name": "stdout",
     "output_type": "stream",
     "text": [
      "        Rank                                              Name Platform  \\\n",
      "0          1                                        Wii Sports      Wii   \n",
      "1          2                                 Super Mario Bros.      NES   \n",
      "2          3                                    Mario Kart Wii      Wii   \n",
      "3          4                                 Wii Sports Resort      Wii   \n",
      "4          5                          Pokemon Red/Pokemon Blue       GB   \n",
      "...      ...                                               ...      ...   \n",
      "16554  16557                                 Psychic Detective       PS   \n",
      "16568  16571                                       XI Coliseum      PSP   \n",
      "16584  16587                                  Bust-A-Move 3000       GC   \n",
      "16591  16594                               Myst IV: Revelation       PC   \n",
      "16595  16598  SCORE International Baja 1000: The Official Game      PS2   \n",
      "\n",
      "         Year         Genre                    Publisher  NA_Sales  EU_Sales  \\\n",
      "0      2006.0        Sports                     Nintendo     41.49     29.02   \n",
      "1      1985.0      Platform                     Nintendo     29.08      3.58   \n",
      "2      2008.0        Racing                     Nintendo     15.85     12.88   \n",
      "3      2009.0        Sports                     Nintendo     15.75     11.01   \n",
      "4      1996.0  Role-Playing                     Nintendo     11.27      8.89   \n",
      "...       ...           ...                          ...       ...       ...   \n",
      "16554  1995.0     Adventure              Electronic Arts      0.01      0.00   \n",
      "16568  2006.0        Puzzle  Sony Computer Entertainment      0.00      0.00   \n",
      "16584  2003.0        Puzzle                      Ubisoft      0.01      0.00   \n",
      "16591  2004.0     Adventure                      Ubisoft      0.01      0.00   \n",
      "16595  2008.0        Racing                   Activision      0.00      0.00   \n",
      "\n",
      "       JP_Sales  Other_Sales  Global_Sales  \n",
      "0          3.77         8.46         82.74  \n",
      "1          6.81         0.77         40.24  \n",
      "2          3.79         3.31         35.82  \n",
      "3          3.28         2.96         33.00  \n",
      "4         10.22         1.00         31.37  \n",
      "...         ...          ...           ...  \n",
      "16554      0.00         0.00          0.01  \n",
      "16568      0.01         0.00          0.01  \n",
      "16584      0.00         0.00          0.01  \n",
      "16591      0.00         0.00          0.01  \n",
      "16595      0.00         0.00          0.01  \n",
      "\n",
      "[4633 rows x 11 columns]\n"
     ]
    },
    {
     "data": {
      "text/plain": [
       "<matplotlib.axes._subplots.AxesSubplot at 0x21fd83e7cf8>"
      ]
     },
     "execution_count": 74,
     "metadata": {},
     "output_type": "execute_result"
    },
    {
     "data": {
      "image/png": "[encoded data removed]",
      "text/plain": [
       "<Figure size 864x432 with 1 Axes>"
      ]
     },
     "metadata": {
      "needs_background": "light"
     },
     "output_type": "display_data"
    }
   ],
   "source": [
    "df5PBL=df[df['Publisher'].isin(company)]\n",
    "print(df5PBL)\n",
    "df5PBL_p=pd.pivot_table(data=df5PBL,index='Year',columns='Publisher',values='Global_Sales',aggfunc=np.sum)\n",
    "df5PBL_p.plot(title='五大发行商历史销售情况',figsize=(12,6))"
   ]
  },
  {
   "cell_type": "markdown",
   "metadata": {},
   "source": [
    "#### 可以看出Nintendo在2000-2010年的销量最高，但是之后开始下降。"
   ]
  },
  {
   "cell_type": "markdown",
   "metadata": {},
   "source": [
    "### 预测每年电子游戏销售额"
   ]
  },
  {
   "cell_type": "code",
   "execution_count": 117,
   "metadata": {},
   "outputs": [],
   "source": [
    "from sklearn.model_selection import train_test_split,cross_val_score,cross_val_predict\n",
    "from sklearn.preprocessing import StandardScaler\n",
    "from sklearn import preprocessing\n",
    "from sklearn.linear_model import LinearRegression\n",
    "from sklearn.metrics import mean_squared_error, r2_score\n",
    "from sklearn.preprocessing import LabelEncoder"
   ]
  },
  {
   "cell_type": "code",
   "execution_count": 121,
   "metadata": {
    "scrolled": true
   },
   "outputs": [
    {
     "name": "stdout",
     "output_type": "stream",
     "text": [
      "        Rank                                              Name  Platform  \\\n",
      "0          1                                        Wii Sports        26   \n",
      "1          2                                 Super Mario Bros.        11   \n",
      "2          3                                    Mario Kart Wii        26   \n",
      "3          4                                 Wii Sports Resort        26   \n",
      "4          5                          Pokemon Red/Pokemon Blue         5   \n",
      "...      ...                                               ...       ...   \n",
      "16593  16596                Woody Woodpecker in Crazy Castle 5         6   \n",
      "16594  16597                     Men in Black II: Alien Escape         7   \n",
      "16595  16598  SCORE International Baja 1000: The Official Game        16   \n",
      "16596  16599                                        Know How 2         4   \n",
      "16597  16600                                  Spirits & Spells         6   \n",
      "\n",
      "         Year  Genre   Publisher  NA_Sales  EU_Sales  JP_Sales  Other_Sales  \\\n",
      "0      2006.0     10    Nintendo     41.49     29.02      3.77         8.46   \n",
      "1      1985.0      4    Nintendo     29.08      3.58      6.81         0.77   \n",
      "2      2008.0      6    Nintendo     15.85     12.88      3.79         3.31   \n",
      "3      2009.0     10    Nintendo     15.75     11.01      3.28         2.96   \n",
      "4      1996.0      7    Nintendo     11.27      8.89     10.22         1.00   \n",
      "...       ...    ...         ...       ...       ...       ...          ...   \n",
      "16593  2002.0      4       Kemco      0.01      0.00      0.00         0.00   \n",
      "16594  2003.0      8  Infogrames      0.01      0.00      0.00         0.00   \n",
      "16595  2008.0      6  Activision      0.00      0.00      0.00         0.00   \n",
      "16596  2010.0      5    7G//AMES      0.00      0.01      0.00         0.00   \n",
      "16597  2003.0      4     Wanadoo      0.01      0.00      0.00         0.00   \n",
      "\n",
      "       Global_Sales  \n",
      "0             82.74  \n",
      "1             40.24  \n",
      "2             35.82  \n",
      "3             33.00  \n",
      "4             31.37  \n",
      "...             ...  \n",
      "16593          0.01  \n",
      "16594          0.01  \n",
      "16595          0.01  \n",
      "16596          0.01  \n",
      "16597          0.01  \n",
      "\n",
      "[16598 rows x 11 columns]\n",
      "   Rank                      Name  Platform    Year  Genre Publisher  \\\n",
      "0     1                Wii Sports        26  2006.0     10  Nintendo   \n",
      "1     2         Super Mario Bros.        11  1985.0      4  Nintendo   \n",
      "2     3            Mario Kart Wii        26  2008.0      6  Nintendo   \n",
      "3     4         Wii Sports Resort        26  2009.0     10  Nintendo   \n",
      "4     5  Pokemon Red/Pokemon Blue         5  1996.0      7  Nintendo   \n",
      "\n",
      "   NA_Sales  EU_Sales  JP_Sales  Other_Sales  Global_Sales  \n",
      "0     41.49     29.02      3.77         8.46         82.74  \n",
      "1     29.08      3.58      6.81         0.77         40.24  \n",
      "2     15.85     12.88      3.79         3.31         35.82  \n",
      "3     15.75     11.01      3.28         2.96         33.00  \n",
      "4     11.27      8.89     10.22         1.00         31.37  \n"
     ]
    }
   ],
   "source": [
    "print(df)\n",
    "lbe = LabelEncoder()\n",
    "df['Genre']=lbe.fit_transform(df['Genre'])\n",
    "df['Platform']=lbe.fit_transform(df['Platform'])\n",
    "print(df.head())"
   ]
  },
  {
   "cell_type": "code",
   "execution_count": 125,
   "metadata": {},
   "outputs": [
    {
     "data": {
      "text/html": [
       "<div>\n",
       "<style scoped>\n",
       "    .dataframe tbody tr th:only-of-type {\n",
       "        vertical-align: middle;\n",
       "    }\n",
       "\n",
       "    .dataframe tbody tr th {\n",
       "        vertical-align: top;\n",
       "    }\n",
       "\n",
       "    .dataframe thead th {\n",
       "        text-align: right;\n",
       "    }\n",
       "</style>\n",
       "<table border=\"1\" class=\"dataframe\">\n",
       "  <thead>\n",
       "    <tr style=\"text-align: right;\">\n",
       "      <th></th>\n",
       "      <th>Platform</th>\n",
       "      <th>Genre</th>\n",
       "      <th>Global_Sales</th>\n",
       "    </tr>\n",
       "  </thead>\n",
       "  <tbody>\n",
       "    <tr>\n",
       "      <th>0</th>\n",
       "      <td>26</td>\n",
       "      <td>10</td>\n",
       "      <td>82.74</td>\n",
       "    </tr>\n",
       "    <tr>\n",
       "      <th>1</th>\n",
       "      <td>11</td>\n",
       "      <td>4</td>\n",
       "      <td>40.24</td>\n",
       "    </tr>\n",
       "    <tr>\n",
       "      <th>2</th>\n",
       "      <td>26</td>\n",
       "      <td>6</td>\n",
       "      <td>35.82</td>\n",
       "    </tr>\n",
       "    <tr>\n",
       "      <th>3</th>\n",
       "      <td>26</td>\n",
       "      <td>10</td>\n",
       "      <td>33.00</td>\n",
       "    </tr>\n",
       "    <tr>\n",
       "      <th>4</th>\n",
       "      <td>5</td>\n",
       "      <td>7</td>\n",
       "      <td>31.37</td>\n",
       "    </tr>\n",
       "  </tbody>\n",
       "</table>\n",
       "</div>"
      ],
      "text/plain": [
       "   Platform  Genre  Global_Sales\n",
       "0        26     10         82.74\n",
       "1        11      4         40.24\n",
       "2        26      6         35.82\n",
       "3        26     10         33.00\n",
       "4         5      7         31.37"
      ]
     },
     "execution_count": 125,
     "metadata": {},
     "output_type": "execute_result"
    }
   ],
   "source": [
    "data = df.drop(['Rank', 'Name', 'Year','NA_Sales', 'EU_Sales', 'JP_Sales', 'Publisher', 'Other_Sales'],axis=1)\n",
    "data.head()"
   ]
  },
  {
   "cell_type": "code",
   "execution_count": 99,
   "metadata": {},
   "outputs": [
    {
     "name": "stdout",
     "output_type": "stream",
     "text": [
      "       Global_Sales\n",
      "0             82.74\n",
      "1             40.24\n",
      "2             35.82\n",
      "3             33.00\n",
      "4             31.37\n",
      "...             ...\n",
      "16593          0.01\n",
      "16594          0.01\n",
      "16595          0.01\n",
      "16596          0.01\n",
      "16597          0.01\n",
      "\n",
      "[16598 rows x 1 columns]\n"
     ]
    }
   ],
   "source": [
    "#### 二元线性回归进行预测"
   ]
  },
  {
   "cell_type": "code",
   "execution_count": 126,
   "metadata": {},
   "outputs": [
    {
     "name": "stdout",
     "output_type": "stream",
     "text": [
      "[[2.97811530e-01 1.14542896e-01 9.47727924e-01]\n",
      " [2.62481426e-01 9.54477913e-02 9.60204780e-01]\n",
      " [5.82095199e-01 1.34329661e-01 8.01948079e-01]\n",
      " ...\n",
      " [9.36329017e-01 3.51123381e-01 5.85205636e-04]\n",
      " [6.24694286e-01 7.80867857e-01 1.56173571e-03]\n",
      " [8.32049494e-01 5.54699663e-01 1.38674916e-03]]\n"
     ]
    }
   ],
   "source": [
    "data = preprocessing.normalize(data)\n",
    "print(data)"
   ]
  },
  {
   "cell_type": "code",
   "execution_count": 127,
   "metadata": {},
   "outputs": [
    {
     "name": "stdout",
     "output_type": "stream",
     "text": [
      "[[0.29781153 0.1145429 ]\n",
      " [0.26248143 0.09544779]\n",
      " [0.5820952  0.13432966]\n",
      " ...\n",
      " [0.93632902 0.35112338]\n",
      " [0.62469429 0.78086786]\n",
      " [0.83204949 0.55469966]]\n",
      "[9.47727924e-01 9.60204780e-01 8.01948079e-01 ... 5.85205636e-04\n",
      " 1.56173571e-03 1.38674916e-03]\n"
     ]
    }
   ],
   "source": [
    "x = data[:,:2]\n",
    "y = data[:,2]\n",
    "print(x)\n",
    "print(y)"
   ]
  },
  {
   "cell_type": "code",
   "execution_count": 130,
   "metadata": {},
   "outputs": [
    {
     "name": "stdout",
     "output_type": "stream",
     "text": [
      "13278 13278 3320 3320\n"
     ]
    }
   ],
   "source": [
    "x_train, x_test, y_train, y_test = train_test_split(x, y, test_size=0.20)\n",
    "print(len(x_train), len(y_train), len(x_test), len(y_test))"
   ]
  },
  {
   "cell_type": "code",
   "execution_count": 132,
   "metadata": {},
   "outputs": [],
   "source": [
    "lm = LinearRegression()\n",
    "model = lm.fit(x_train, y_train)"
   ]
  },
  {
   "cell_type": "code",
   "execution_count": 133,
   "metadata": {},
   "outputs": [
    {
     "name": "stdout",
     "output_type": "stream",
     "text": [
      "[-0.55283947 -0.30506652]\n"
     ]
    }
   ],
   "source": [
    "# 打印权重\n",
    "print(model.coef_)"
   ]
  },
  {
   "cell_type": "code",
   "execution_count": 135,
   "metadata": {},
   "outputs": [
    {
     "name": "stdout",
     "output_type": "stream",
     "text": [
      "0.6251705651820577\n"
     ]
    }
   ],
   "source": [
    "# 打印偏置\n",
    "print(model.intercept_)"
   ]
  },
  {
   "cell_type": "code",
   "execution_count": 147,
   "metadata": {},
   "outputs": [],
   "source": [
    "test_predict = model.predict(x_test)"
   ]
  },
  {
   "cell_type": "code",
   "execution_count": 148,
   "metadata": {},
   "outputs": [
    {
     "name": "stdout",
     "output_type": "stream",
     "text": [
      "0.07908722483360475\n"
     ]
    }
   ],
   "source": [
    "# 使用RMSE值进行评测模型\n",
    "rmse_train = np.sqrt(mean_squared_error(y_train, model.predict(x_train)))\n",
    "print(rmse_train)"
   ]
  },
  {
   "cell_type": "code",
   "execution_count": 150,
   "metadata": {},
   "outputs": [
    {
     "name": "stdout",
     "output_type": "stream",
     "text": [
      "0.07965915413955683\n"
     ]
    }
   ],
   "source": [
    "rmse_test = np.sqrt(mean_squared_error(y_test, test_predict))\n",
    "print(rmse_test)"
   ]
  },
  {
   "cell_type": "markdown",
   "metadata": {},
   "source": [
    "####  可以发现，训练集和测试集上的表现相差不大"
   ]
  },
  {
   "cell_type": "markdown",
   "metadata": {},
   "source": [
    "####  使用r2进行评估"
   ]
  },
  {
   "cell_type": "code",
   "execution_count": 151,
   "metadata": {},
   "outputs": [
    {
     "name": "stdout",
     "output_type": "stream",
     "text": [
      "0.34412435245098505\n"
     ]
    }
   ],
   "source": [
    "r2 = cross_val_score(model, x_train, y_train, cv = 10, scoring = \"r2\").mean()\n",
    "print(r2)"
   ]
  },
  {
   "cell_type": "code",
   "execution_count": 152,
   "metadata": {},
   "outputs": [
    {
     "name": "stdout",
     "output_type": "stream",
     "text": [
      "0.29050477048551987\n"
     ]
    }
   ],
   "source": [
    "r2_test = cross_val_score(model, x_test, y_test, cv = 10, scoring = \"r2\").mean()\n",
    "print(r2_test)"
   ]
  },
  {
   "cell_type": "markdown",
   "metadata": {},
   "source": [
    "##### 综上，二元线性回归的拟合程度较好"
   ]
  },
  {
   "cell_type": "code",
   "execution_count": null,
   "metadata": {},
   "outputs": [],
   "source": []
  }
 ],
 "metadata": {
  "kernelspec": {
   "display_name": "py3.6",
   "language": "python",
   "name": "py3.6"
  },
  "language_info": {
   "codemirror_mode": {
    "name": "ipython",
    "version": 3
   },
   "file_extension": ".py",
   "mimetype": "text/x-python",
   "name": "python",
   "nbconvert_exporter": "python",
   "pygments_lexer": "ipython3",
   "version": "3.6.9"
  }
 },
 "nbformat": 4,
 "nbformat_minor": 2
}
